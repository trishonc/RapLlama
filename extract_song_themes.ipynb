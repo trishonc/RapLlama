{
 "cells": [
  {
   "cell_type": "code",
   "execution_count": null,
   "id": "197816e6-4d08-4f9c-a9f4-df281f869eb4",
   "metadata": {},
   "outputs": [],
   "source": [
    "!pip install vllm pandas"
   ]
  },
  {
   "cell_type": "code",
   "execution_count": 2,
   "id": "6612d2ab-d2ec-46c4-8974-0cd3ca475c34",
   "metadata": {},
   "outputs": [],
   "source": [
    "from vllm import LLM, SamplingParams"
   ]
  },
  {
   "cell_type": "code",
   "execution_count": null,
   "id": "83adb35a-c3e9-4edf-808e-e58560f0060a",
   "metadata": {},
   "outputs": [],
   "source": [
    "llm = LLM(model=\"TheBloke/Mistral-7B-Instruct-v0.2-AWQ\", quantization = 'awq', dtype=\"auto\")"
   ]
  },
  {
   "cell_type": "code",
   "execution_count": 12,
   "id": "1069d32b-17f5-46ec-ba73-105ebf280a1a",
   "metadata": {},
   "outputs": [],
   "source": [
    "sampling_params = SamplingParams(temperature=0.9, top_k=50, max_tokens=200)"
   ]
  },
  {
   "cell_type": "code",
   "execution_count": 58,
   "id": "48595589-76d7-4496-8879-304937230f07",
   "metadata": {},
   "outputs": [],
   "source": [
    "lyrics_yaml_prompt = \"\"\"Analyze song lyrics and the info about them which may provide additional context about the lyrics but it also could be irrelevant and output just the four main themes in a yaml format with the four keys being named theme_1, theme_2, theme_3 and theme_4. Only output the yaml format I have given in the examples, do not add anything else to it and do not output things like specifics, descriptions, notes, etc. Here is an example of what your output should be:\n",
    "        ```yaml\n",
    "\t\ttheme_1: poverty\n",
    "\t\ttheme_2: hard work\n",
    "\t\ttheme_3: success\n",
    "\t\ttheme_4: wealth\n",
    "        ```  \n",
    "  Here is another example:\n",
    "        ```yaml\n",
    "        theme_1: pride\n",
    "\t\ttheme_2: envy\n",
    "\t\ttheme_3: lust\n",
    "\t\ttheme_4: hatred\n",
    "        ``` \n",
    " \"\"\"\n",
    "\n",
    "annotations_yaml_prompt = \"\"\"Analyze song lyrics and the info about them which may provide additional context about the lyrics but it also could be irrelevant and output just the two main themes in a yaml format with the two keys being named theme_1, and theme_2. Only output the yaml format I have given in the examples, do not add anything else to it and do not output things like specifics, descriptions, notes, etc. Here is an example of what your output should be:\n",
    "        ```yaml\n",
    "\t\ttheme_1: hard work\n",
    "\t\ttheme_2: success\n",
    "        ```  \n",
    "  Here is another example:\n",
    "        ```yaml\n",
    "        theme_1: pride\n",
    "\t\ttheme_2: envy\n",
    "        ``` \n",
    " \"\"\"\n",
    "\n",
    "system_message = \"Below is an instruction that describes a task. Write a response that appropriately completes the request.\"\n"
   ]
  },
  {
   "cell_type": "code",
   "execution_count": 36,
   "id": "070c7395-083d-419f-896f-9b2cbe43d4c5",
   "metadata": {},
   "outputs": [],
   "source": [
    "input_template = \"\"\"\n",
    "{}\n",
    "[lyrics]\n",
    "{}\n",
    "[info]\n",
    "{}\n",
    "\"\"\"\n",
    "\n",
    "instruct_prompt = '''\n",
    "<s>[INST]\n",
    "{}\n",
    "{} \n",
    "[/INST]\n",
    "'''"
   ]
  },
  {
   "cell_type": "code",
   "execution_count": 72,
   "id": "c9547f0c-b7bb-4d5d-8959-b48593de4e31",
   "metadata": {},
   "outputs": [],
   "source": [
    "import pandas as pd\n",
    "lyrics_full_df = pd.read_csv('lyrics_dataset_clean.csv')\n",
    "annotations_full_df = pd.read_csv('annotations_dataset.csv')\n",
    "lyrics_df = lyrics_full_df.head(100)\n",
    "annotations_df = annotations_full_df.head(100)"
   ]
  },
  {
   "cell_type": "code",
   "execution_count": null,
   "id": "6783b70897c092cd",
   "metadata": {
    "collapsed": false
   },
   "outputs": [],
   "source": [
    "def create_prompt(prompt, lyrics, info):\n",
    "    input = input_template.format(prompt, lyrics, info)\n",
    "    prompt = instruct_prompt.format(system_message, input)\n",
    "    return prompt\n",
    "\n",
    "def generate_prompt(row, type): \n",
    "    if type == 'lyrics':\n",
    "        prompt = create_prompt(lyrics_yaml_prompt, row['song_lyrics'], row['song_description'])\n",
    "    elif type == 'annotations':\n",
    "       prompt = create_prompt(annotations_yaml_prompt, row['referent'], row['annotation']) \n",
    "    else:\n",
    "        return None\n",
    "    return prompt \n",
    "\n",
    "themes_num = 4\n",
    "\n",
    "def format_themes(themes):\n",
    "    parts = themes.split(\"theme_\")\n",
    "    if len(parts) < themes_num + 1:\n",
    "        return \"No topics available\"\n",
    "\n",
    "    themes = []\n",
    "    for i in range(1, themes_num + 1):  \n",
    "        part = parts[i].split(\":\", 1) \n",
    "        if len(part) == 2:\n",
    "            themes.append(part[1].strip().replace('```', ''))  \n",
    "        else:\n",
    "            return \"No topics available\"\n",
    "\n",
    "    return \", \".join(themes)"
   ]
  },
  {
   "cell_type": "code",
   "execution_count": null,
   "id": "2c83d27c706d2525",
   "metadata": {
    "collapsed": false
   },
   "outputs": [],
   "source": [
    "import pandas as pd\n",
    "import math\n",
    "\n",
    "def create_batches(df, batch_size):\n",
    "    \"\"\"Split DataFrame into a list of batches.\"\"\"\n",
    "    total_rows = len(df)\n",
    "    num_batches = math.ceil(total_rows / batch_size)\n",
    "    return [df[i*batch_size:(i+1)*batch_size] for i in range(num_batches)]\n",
    "\n",
    "def process_data(df, batch_size, llm):\n",
    "    batches = create_batches(df, batch_size)\n",
    "    result_df = pd.DataFrame()\n",
    "    \n",
    "    num_batches = len(batches)\n",
    "    for i, batch_df in enumerate(batches):\n",
    "        prompts = [generate_prompt(row, 'annotations') for _, row in batch_df.iterrows()]\n",
    "        \n",
    "        outputs = llm.generate(prompts, sampling_params) \n",
    "        \n",
    "        generated_themes = [format_themes(output.outputs[0].text) for output in outputs]\n",
    "        \n",
    "        batch_df['themes'] = generated_themes\n",
    "        \n",
    "        result_df = pd.concat([result_df, batch_df], ignore_index=True)\n",
    "        \n",
    "        if i % 100 == 0:\n",
    "            print(f'batch: {i}/{num_batches}')\n",
    "\n",
    "    return result_df\n",
    "\n",
    "\n"
   ]
  },
  {
   "cell_type": "code",
   "execution_count": null,
   "id": "791ffb2ae67eb0bb",
   "metadata": {
    "collapsed": false
   },
   "outputs": [],
   "source": [
    "themes_num = 2\n",
    "batch_size = 8\n",
    "result_df = process_data(annotations_full_df, batch_size, llm)"
   ]
  },
  {
   "cell_type": "code",
   "execution_count": null,
   "id": "e229e83246e80d54",
   "metadata": {
    "collapsed": false
   },
   "outputs": [],
   "source": [
    "annotations_final_df.to_csv('final_annotations_dataset.csv', index=False)"
   ]
  }
 ],
 "metadata": {
  "kernelspec": {
   "display_name": "Python 3 (ipykernel)",
   "language": "python",
   "name": "python3"
  },
  "language_info": {
   "codemirror_mode": {
    "name": "ipython",
    "version": 3
   },
   "file_extension": ".py",
   "mimetype": "text/x-python",
   "name": "python",
   "nbconvert_exporter": "python",
   "pygments_lexer": "ipython3",
   "version": "3.10.12"
  }
 },
 "nbformat": 4,
 "nbformat_minor": 5
}
